{
 "cells": [
  {
   "cell_type": "code",
   "execution_count": 1,
   "metadata": {},
   "outputs": [],
   "source": [
    "# Importar librerías\n",
    "import os\n",
    "import pandas as pd\n",
    "import numpy as np\n",
    "import boto3\n",
    "import datetime as dt\n",
    "from src.utils import (\n",
    "    read_configuration,\n",
    "    obtener_info_banxico,\n",
    "    obtener_inflacion_inegi\n",
    ")\n",
    "\n",
    "# config yaml\n",
    "global_config = read_configuration()"
   ]
  },
  {
   "cell_type": "code",
   "execution_count": 2,
   "metadata": {},
   "outputs": [],
   "source": [
    "token_banxico = global_config.get('etl').get('token_banxico')\n",
    "token_inegi = global_config.get('etl').get('token_inegi')"
   ]
  },
  {
   "cell_type": "code",
   "execution_count": 3,
   "metadata": {},
   "outputs": [],
   "source": [
    "# get data\n",
    "tipo_de_cambio = obtener_info_banxico('SF43718', '2000-01-01', '2024-04-01', token_banxico)\n",
    "tiie_28_dias = obtener_info_banxico('SF43783', '2000-01-01', '2024-04-01', token_banxico)\n",
    "inflación = obtener_inflacion_inegi(token_inegi)"
   ]
  },
  {
   "cell_type": "code",
   "execution_count": 4,
   "metadata": {},
   "outputs": [],
   "source": [
    "# save data\n",
    "tipo_de_cambio.to_csv('data/raw/tipo_de_cambio.csv',index=False)\n",
    "tiie_28_dias.to_csv('data/raw/tasa_de_interes.csv',index=False)\n",
    "inflación.to_csv('data/raw/inflacion.csv',index=False)"
   ]
  },
  {
   "cell_type": "code",
   "execution_count": 5,
   "metadata": {},
   "outputs": [],
   "source": [
    "# session with AWS\n",
    "aws_profile = global_config.get('main').get('aws_profile')\n",
    "session = boto3.Session(profile_name=aws_profile)\n",
    "s3 = session.client('s3')\n",
    "# upload data\n",
    "BUCKET_NAME = global_config.get('etl').get('aws_bucket')\n",
    "s3.upload_file(Filename=\"data/raw/inflacion.csv\", Bucket=BUCKET_NAME, Key=\"econ/raw/inflacion/inflacion.csv\")\n",
    "s3.upload_file(Filename=\"data/raw/tasa_de_interes.csv\", Bucket=BUCKET_NAME, Key=\"econ/raw/tasa_de_interes/tasa_de_interes.csv\")\n",
    "s3.upload_file(Filename=\"data/raw/tipo_de_cambio.csv\", Bucket=BUCKET_NAME, Key=\"econ/raw/tipo_de_cambio/tipo_de_cambio.csv\")\n"
   ]
  },
  {
   "cell_type": "code",
   "execution_count": null,
   "metadata": {},
   "outputs": [],
   "source": []
  }
 ],
 "metadata": {
  "kernelspec": {
   "display_name": "arquitectura",
   "language": "python",
   "name": "python3"
  },
  "language_info": {
   "codemirror_mode": {
    "name": "ipython",
    "version": 3
   },
   "file_extension": ".py",
   "mimetype": "text/x-python",
   "name": "python",
   "nbconvert_exporter": "python",
   "pygments_lexer": "ipython3",
   "version": "3.11.8"
  }
 },
 "nbformat": 4,
 "nbformat_minor": 2
}
